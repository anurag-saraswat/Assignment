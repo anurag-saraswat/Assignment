{
  "nbformat": 4,
  "nbformat_minor": 0,
  "metadata": {
    "colab": {
      "name": "ML2Q2.ipynb",
      "provenance": [],
      "collapsed_sections": [
        "wEBJHqFWKwuE"
      ]
    },
    "kernelspec": {
      "name": "python3",
      "display_name": "Python 3"
    },
    "accelerator": "GPU"
  },
  "cells": [
    {
      "cell_type": "markdown",
      "metadata": {
        "id": "N-mKQEyD9YzF"
      },
      "source": [
        "# 2. Download a ResNet 50 trained on the ImageNet classification dataset, \n",
        "\n",
        "b. Fine-tune the ResNet 50 model (you may choose what layers to fine-tune)\n",
        "for the CIFAR-10 dataset, and evaluate the classification performance on\n",
        "the test set before and after fine-tuning with respect to the following\n",
        "metrics \n",
        "-  Class wise Accuracy\n",
        "-  Choose any 5 classes and report Confusion Matrix.\n"
      ]
    },
    {
      "cell_type": "markdown",
      "metadata": {
        "id": "kUpsJIOqX_H_"
      },
      "source": [
        ""
      ]
    },
    {
      "cell_type": "code",
      "metadata": {
        "id": "pAgkpWdC9eU3"
      },
      "source": [
        "# Importing library\n",
        "\n",
        "\n",
        "import numpy as np\n",
        "import matplotlib.pyplot as plt\n",
        "\n",
        "import torch\n",
        "import torchvision\n",
        "import torch.optim as optim\n",
        "import torchvision.transforms as transforms\n",
        "import torch.nn as nn\n",
        "import torch.nn.functional as F\n",
        "import torchvision.models as models\n"
      ],
      "execution_count": null,
      "outputs": []
    },
    {
      "cell_type": "code",
      "metadata": {
        "colab": {
          "base_uri": "https://localhost:8080/"
        },
        "id": "uGwbvtbECvvy",
        "outputId": "3d292626-b82d-4945-bc16-3c0c14544287"
      },
      "source": [
        "# Downloading and Loading Data Set\n",
        "\n",
        "transform = transforms.Compose([transforms.ToTensor(),transforms.Normalize((0.5, 0.5, 0.5), (0.5, 0.5, 0.5))])\n",
        "\n",
        "trainset = torchvision.datasets.CIFAR10(root='./data', train=True,download=True, transform=transform)\n",
        "trainloader = torch.utils.data.DataLoader(trainset, batch_size=64,shuffle=True, num_workers=2)\n",
        "\n",
        "testset = torchvision.datasets.CIFAR10(root='./data', train=False,download=True, transform=transform)\n",
        "testloader = torch.utils.data.DataLoader(testset, batch_size=64, shuffle=False, num_workers=2)\n",
        "\n",
        "classes = ('plane', 'car', 'bird', 'cat','deer', 'dog', 'frog', 'horse', 'ship', 'truck')"
      ],
      "execution_count": null,
      "outputs": [
        {
          "output_type": "stream",
          "text": [
            "Files already downloaded and verified\n",
            "Files already downloaded and verified\n"
          ],
          "name": "stdout"
        }
      ]
    },
    {
      "cell_type": "code",
      "metadata": {
        "id": "-THS01bjCbUi"
      },
      "source": [
        ""
      ],
      "execution_count": null,
      "outputs": []
    },
    {
      "cell_type": "markdown",
      "metadata": {
        "id": "HZk9KWYTdmH3"
      },
      "source": [
        "## b. Fine-tune the ResNet 50 model (you may choose what layers to fine-tune)for the CIFAR-10 dataset, and evaluate the classification performance on the test set before and after fine-tuning with respect to the following metrics \n",
        "-  Class wise Accuracy\n",
        "-  Choose any 5 classes and report Confusion Matrix."
      ]
    },
    {
      "cell_type": "markdown",
      "metadata": {
        "id": "NOwdXPETK1DU"
      },
      "source": [
        "### Before Fine Tuning or From Scratch"
      ]
    },
    {
      "cell_type": "code",
      "metadata": {
        "colab": {
          "base_uri": "https://localhost:8080/"
        },
        "id": "laD-dNHDLGCN",
        "outputId": "194c6243-096e-4556-a1cf-bfa7fc5faed2"
      },
      "source": [
        "net = torch.hub.load('pytorch/vision:v0.6.0', 'resnet50', pretrained=False)\n",
        "net.fc = nn.Sequential(nn.Linear(2048, 10))\n",
        "net.to(device)\n",
        "#from torchsummary import summary\n",
        "#summary(net,(3, 32, 32))\n",
        "print()"
      ],
      "execution_count": null,
      "outputs": [
        {
          "output_type": "stream",
          "text": [
            "Using cache found in /root/.cache/torch/hub/pytorch_vision_v0.6.0\n"
          ],
          "name": "stderr"
        },
        {
          "output_type": "stream",
          "text": [
            "\n"
          ],
          "name": "stdout"
        }
      ]
    },
    {
      "cell_type": "code",
      "metadata": {
        "colab": {
          "base_uri": "https://localhost:8080/"
        },
        "id": "j4V52EZcLGNM",
        "outputId": "6c46212c-b182-4e11-def1-e845474bc1fe"
      },
      "source": [
        "# Fine-Tuning of RESNET-50\n",
        "\n",
        "loss_RESNET = []\n",
        "\n",
        "criterion = nn.CrossEntropyLoss()\n",
        "optimizer = optim.Adam(net.parameters(), lr=0.001)\n",
        "\n",
        "for epoch in range(15):  # loop over the dataset multiple times\n",
        "\n",
        "    running_loss = 0.0\n",
        "    for i, data in enumerate(trainloader, 0):\n",
        "        # get the inputs; data is a list of [inputs, labels]\n",
        "        #inputs, labels = data\n",
        "        inputs, labels = data[0].to(device), data[1].to(device)\n",
        "\n",
        "        # zero the parameter gradients\n",
        "        optimizer.zero_grad()\n",
        "\n",
        "        # forward + backward + optimize\n",
        "        outputs = net(inputs)\n",
        "        loss = criterion(outputs, labels)\n",
        "        loss.backward()\n",
        "        optimizer.step()\n",
        "\n",
        "        # print statistics\n",
        "        running_loss += loss.item()\n",
        "        if i % 2000 == 1999: \n",
        "            loss_RESNET.append(float(running_loss / 2000))\n",
        "            running_loss = 0.0\n",
        "    print(\"Epoch %d is completed...\"%(epoch+1))"
      ],
      "execution_count": null,
      "outputs": [
        {
          "output_type": "stream",
          "text": [
            "Epoch 1 is completed...\n",
            "Epoch 2 is completed...\n",
            "Epoch 3 is completed...\n",
            "Epoch 4 is completed...\n",
            "Epoch 5 is completed...\n",
            "Epoch 6 is completed...\n",
            "Epoch 7 is completed...\n",
            "Epoch 8 is completed...\n",
            "Epoch 9 is completed...\n",
            "Epoch 10 is completed...\n",
            "Epoch 11 is completed...\n",
            "Epoch 12 is completed...\n",
            "Epoch 13 is completed...\n",
            "Epoch 14 is completed...\n",
            "Epoch 15 is completed...\n"
          ],
          "name": "stdout"
        }
      ]
    },
    {
      "cell_type": "code",
      "metadata": {
        "colab": {
          "base_uri": "https://localhost:8080/"
        },
        "id": "0KMhT67oLcZR",
        "outputId": "0c7fa357-9104-449e-d70c-2435dd193c30"
      },
      "source": [
        "# Calculating Class wise Accuracy\n",
        "\n",
        "class_lst = [0 for i in range(10)]\n",
        "class_Tcount = [0 for i in range(10)]\n",
        "classes = ('plane', 'car', 'bird', 'cat','deer', 'dog', 'frog', 'horse', 'ship', 'truck')\n",
        "\n",
        "with torch.no_grad():\n",
        "    for data in testloader:\n",
        "        images, labels = data[0].to(device), data[1].to(device)\n",
        "        outputs = net(images)\n",
        "        _, predicted = torch.max(outputs.data, 1)\n",
        "        \n",
        "        p = predicted.tolist()\n",
        "        l = labels.tolist()\n",
        "\n",
        "        for i in range(len(p)):\n",
        "          if (p[i]==l[i]):\n",
        "            class_Tcount[p[i]]+=1\n",
        "            class_lst[p[i]]+=1\n",
        "          else:\n",
        "            class_Tcount[l[i]]+=1\n",
        "       \n",
        "\n",
        "for i in range(10):\n",
        "  temp = round((class_lst[i]/class_Tcount[i])*100,4)\n",
        "  print(\"Accuracy of class \"+ str(i) + \" i.e belongs to \" + classes[i] + ' is ' + str(temp) )"
      ],
      "execution_count": null,
      "outputs": [
        {
          "output_type": "stream",
          "text": [
            "Accuracy of class 0 i.e belongs to plane is 73.8\n",
            "Accuracy of class 1 i.e belongs to car is 79.8\n",
            "Accuracy of class 2 i.e belongs to bird is 61.8\n",
            "Accuracy of class 3 i.e belongs to cat is 50.0\n",
            "Accuracy of class 4 i.e belongs to deer is 68.7\n",
            "Accuracy of class 5 i.e belongs to dog is 61.3\n",
            "Accuracy of class 6 i.e belongs to frog is 83.0\n",
            "Accuracy of class 7 i.e belongs to horse is 75.2\n",
            "Accuracy of class 8 i.e belongs to ship is 83.7\n",
            "Accuracy of class 9 i.e belongs to truck is 82.3\n"
          ],
          "name": "stdout"
        }
      ]
    },
    {
      "cell_type": "code",
      "metadata": {
        "colab": {
          "base_uri": "https://localhost:8080/"
        },
        "id": "jgWk0Z64LhBW",
        "outputId": "e1815c4a-c60a-42a6-d99b-7103e53bd6f3"
      },
      "source": [
        "#Choose any 5 classes and report Confusion Matrix.\n",
        "# we are choosing First five class i.e from class 0 to 4\n",
        "\n",
        "confusion_matrix = [[0 for i in range(5)] for j in range(5)]\n",
        "\n",
        "\n",
        "with torch.no_grad():\n",
        "    for data in testloader:\n",
        "        images, labels = data[0].to(device), data[1].to(device)\n",
        "        outputs = net(images)\n",
        "        _, predicted = torch.max(outputs.data, 1)\n",
        "        \n",
        "        p = predicted.tolist()\n",
        "        l = labels.tolist()\n",
        "\n",
        "        for i in range(len(p)):\n",
        "          if(0<= l[i] < 5) and (0<= p[i] < 5):\n",
        "            confusion_matrix[l[i]][p[i]] += 1\n",
        "\n",
        "print('-------Confusion Matrix-------')\n",
        "for i in confusion_matrix:\n",
        "  for j in i:\n",
        "    print(j,end='   ')\n",
        "  print()\n"
      ],
      "execution_count": null,
      "outputs": [
        {
          "output_type": "stream",
          "text": [
            "-------Confusion Matrix-------\n",
            "738   28   54   16   12   \n",
            "16   798   3   5   5   \n",
            "48   7   618   54   101   \n",
            "27   17   60   500   67   \n",
            "19   5   64   61   687   \n"
          ],
          "name": "stdout"
        }
      ]
    },
    {
      "cell_type": "code",
      "metadata": {
        "colab": {
          "base_uri": "https://localhost:8080/",
          "height": 444
        },
        "id": "VnAga4NELhEH",
        "outputId": "c719d335-dd48-4c81-dc5d-cbae818ccbe7"
      },
      "source": [
        "import pandas as pd\n",
        "import seaborn as sn\n",
        "import matplotlib.pyplot as plt\n",
        "\n",
        "plt.figure(num=None, figsize=(8, 6), dpi=80, facecolor='w', edgecolor='k')\n",
        "\n",
        "\n",
        "x_axis_labels= ['plane', 'car', 'bird', 'cat','deer']\n",
        "y_axis_labels= ['plane', 'car', 'bird', 'cat','deer']\n",
        "\n",
        "\n",
        "sn.heatmap(confusion_matrix, annot=True, xticklabels=x_axis_labels, yticklabels=y_axis_labels,cmap='Blues', fmt='g')\n",
        "plt.xlabel(\"Prediction\")\n",
        "plt.ylabel(\"Labels\")\n",
        "plt.title('Confusion Matrix')\n",
        "plt.savefig('./Confusion_matrix_Scratch')\n",
        "\n",
        "\n",
        "plt.show()\n"
      ],
      "execution_count": null,
      "outputs": [
        {
          "output_type": "display_data",
          "data": {
            "image/png": "[encoded data removed]",
            "text/plain": [
              "<Figure size 640x480 with 2 Axes>"
            ]
          },
          "metadata": {
            "tags": []
          }
        }
      ]
    },
    {
      "cell_type": "code",
      "metadata": {
        "id": "n-dW9dWlLhG1"
      },
      "source": [
        ""
      ],
      "execution_count": null,
      "outputs": []
    },
    {
      "cell_type": "markdown",
      "metadata": {
        "id": "wEBJHqFWKwuE"
      },
      "source": [
        "### After Fine Tuning"
      ]
    },
    {
      "cell_type": "code",
      "metadata": {
        "colab": {
          "base_uri": "https://localhost:8080/"
        },
        "id": "XpBaDUA7dlA7",
        "outputId": "c3f78d02-42e4-4399-cf9e-af0be250b14c"
      },
      "source": [
        "net = torch.hub.load('pytorch/vision:v0.6.0', 'resnet50', pretrained=True)\n",
        "net.fc = nn.Sequential(nn.Linear(2048, 10))\n",
        "net.to(device)\n",
        "#from torchsummary import summary\n",
        "#summary(net,(3, 32, 32))\n",
        "print()\n",
        "\n"
      ],
      "execution_count": null,
      "outputs": [
        {
          "output_type": "stream",
          "text": [
            "Using cache found in /root/.cache/torch/hub/pytorch_vision_v0.6.0\n"
          ],
          "name": "stderr"
        },
        {
          "output_type": "stream",
          "text": [
            "\n"
          ],
          "name": "stdout"
        }
      ]
    },
    {
      "cell_type": "code",
      "metadata": {
        "colab": {
          "base_uri": "https://localhost:8080/"
        },
        "id": "tZZS19xtdlH0",
        "outputId": "8529a3dd-e70d-4776-cb8d-7e7fa3465550"
      },
      "source": [
        "# Fine-Tuning of RESNET-50\n",
        "\n",
        "loss_RESNET = []\n",
        "\n",
        "criterion = nn.CrossEntropyLoss()\n",
        "optimizer = optim.Adam(net.parameters(), lr=0.001)\n",
        "\n",
        "for epoch in range(10):  # loop over the dataset multiple times\n",
        "\n",
        "    running_loss = 0.0\n",
        "    for i, data in enumerate(trainloader, 0):\n",
        "        # get the inputs; data is a list of [inputs, labels]\n",
        "        #inputs, labels = data\n",
        "        inputs, labels = data[0].to(device), data[1].to(device)\n",
        "\n",
        "        # zero the parameter gradients\n",
        "        optimizer.zero_grad()\n",
        "\n",
        "        # forward + backward + optimize\n",
        "        outputs = net(inputs)\n",
        "        loss = criterion(outputs, labels)\n",
        "        loss.backward()\n",
        "        optimizer.step()\n",
        "\n",
        "        # print statistics\n",
        "        running_loss += loss.item()\n",
        "        if i % 2000 == 1999: \n",
        "            loss_RESNET.append(float(running_loss / 2000))\n",
        "            running_loss = 0.0\n",
        "    print(\"Epoch %d is completed...\"%(epoch+1))"
      ],
      "execution_count": null,
      "outputs": [
        {
          "output_type": "stream",
          "text": [
            "Epoch 1 is completed...\n",
            "Epoch 2 is completed...\n",
            "Epoch 3 is completed...\n",
            "Epoch 4 is completed...\n",
            "Epoch 5 is completed...\n",
            "Epoch 6 is completed...\n",
            "Epoch 7 is completed...\n",
            "Epoch 8 is completed...\n",
            "Epoch 9 is completed...\n",
            "Epoch 10 is completed...\n"
          ],
          "name": "stdout"
        }
      ]
    },
    {
      "cell_type": "code",
      "metadata": {
        "colab": {
          "base_uri": "https://localhost:8080/"
        },
        "id": "vlKWCt-fdlKK",
        "outputId": "7b1fc484-9ebb-472a-a12b-2dbe7e11da9a"
      },
      "source": [
        "# Calculating Class wise Accuracy\n",
        "\n",
        "class_lst = [0 for i in range(10)]\n",
        "class_Tcount = [0 for i in range(10)]\n",
        "classes = ('plane', 'car', 'bird', 'cat','deer', 'dog', 'frog', 'horse', 'ship', 'truck')\n",
        "\n",
        "with torch.no_grad():\n",
        "    for data in testloader:\n",
        "        images, labels = data[0].to(device), data[1].to(device)\n",
        "        outputs = net(images)\n",
        "        _, predicted = torch.max(outputs.data, 1)\n",
        "        \n",
        "        p = predicted.tolist()\n",
        "        l = labels.tolist()\n",
        "\n",
        "        for i in range(len(p)):\n",
        "          if (p[i]==l[i]):\n",
        "            class_Tcount[p[i]]+=1\n",
        "            class_lst[p[i]]+=1\n",
        "          else:\n",
        "            class_Tcount[l[i]]+=1\n",
        "       \n",
        "\n",
        "for i in range(10):\n",
        "  temp = round((class_lst[i]/class_Tcount[i])*100,4)\n",
        "  print(\"Accuracy of class \"+ str(i) + \" i.e belongs to \" + classes[i] + ' is ' + str(temp) )"
      ],
      "execution_count": null,
      "outputs": [
        {
          "output_type": "stream",
          "text": [
            "Accuracy of class 0 i.e belongs to plane is 81.3\n",
            "Accuracy of class 1 i.e belongs to car is 84.4\n",
            "Accuracy of class 2 i.e belongs to bird is 73.7\n",
            "Accuracy of class 3 i.e belongs to cat is 70.1\n",
            "Accuracy of class 4 i.e belongs to deer is 83.4\n",
            "Accuracy of class 5 i.e belongs to dog is 73.4\n",
            "Accuracy of class 6 i.e belongs to frog is 83.0\n",
            "Accuracy of class 7 i.e belongs to horse is 84.5\n",
            "Accuracy of class 8 i.e belongs to ship is 87.9\n",
            "Accuracy of class 9 i.e belongs to truck is 87.9\n"
          ],
          "name": "stdout"
        }
      ]
    },
    {
      "cell_type": "code",
      "metadata": {
        "colab": {
          "base_uri": "https://localhost:8080/"
        },
        "id": "-VmS9kXjlSEU",
        "outputId": "88623556-99e1-4a37-918e-c90203272390"
      },
      "source": [
        "#Choose any 5 classes and report Confusion Matrix.\n",
        "# we are choosing First five class i.e from class 0 to 4\n",
        "\n",
        "confusion_matrix = [[0 for i in range(5)] for j in range(5)]\n",
        "\n",
        "\n",
        "with torch.no_grad():\n",
        "    for data in testloader:\n",
        "        images, labels = data[0].to(device), data[1].to(device)\n",
        "        outputs = net(images)\n",
        "        _, predicted = torch.max(outputs.data, 1)\n",
        "        \n",
        "        p = predicted.tolist()\n",
        "        l = labels.tolist()\n",
        "\n",
        "        for i in range(len(p)):\n",
        "          if(0<= l[i] < 5) and (0<= p[i] < 5):\n",
        "            confusion_matrix[l[i]][p[i]] += 1\n",
        "\n",
        "print('-------Confusion Matrix-------')\n",
        "for i in confusion_matrix:\n",
        "  for j in i:\n",
        "    print(j,end='   ')\n",
        "  print()\n"
      ],
      "execution_count": null,
      "outputs": [
        {
          "output_type": "stream",
          "text": [
            "-------Confusion Matrix-------\n",
            "813   11   44   30   16   \n",
            "12   844   4   14   3   \n",
            "30   1   737   62   70   \n",
            "15   4   33   701   56   \n",
            "9   2   47   31   834   \n"
          ],
          "name": "stdout"
        }
      ]
    },
    {
      "cell_type": "code",
      "metadata": {
        "colab": {
          "base_uri": "https://localhost:8080/",
          "height": 444
        },
        "id": "cHAm4O-RlIBD",
        "outputId": "eb4d1e47-f2a4-48c7-eb1d-7eab0bbb155a"
      },
      "source": [
        "import pandas as pd\n",
        "import seaborn as sn\n",
        "import matplotlib.pyplot as plt\n",
        "\n",
        "plt.figure(num=None, figsize=(8, 6), dpi=80, facecolor='w', edgecolor='k')\n",
        "\n",
        "\n",
        "x_axis_labels= ['plane', 'car', 'bird', 'cat','deer']\n",
        "y_axis_labels= ['plane', 'car', 'bird', 'cat','deer']\n",
        "\n",
        "\n",
        "sn.heatmap(confusion_matrix, annot=True, xticklabels=x_axis_labels, yticklabels=y_axis_labels,cmap='Blues', fmt='g')\n",
        "plt.xlabel(\"Prediction\")\n",
        "plt.ylabel(\"Labels\")\n",
        "plt.title('Confusion Matrix')\n",
        "plt.savefig('./Confusion_matrix')\n",
        "\n",
        "\n",
        "plt.show()\n"
      ],
      "execution_count": null,
      "outputs": [
        {
          "output_type": "display_data",
          "data": {
            "image/png": "[encoded data removed]",
            "text/plain": [
              "<Figure size 640x480 with 2 Axes>"
            ]
          },
          "metadata": {
            "tags": []
          }
        }
      ]
    },
    {
      "cell_type": "code",
      "metadata": {
        "id": "d4ywdW-FdlMb"
      },
      "source": [
        ""
      ],
      "execution_count": null,
      "outputs": []
    }
  ]
}